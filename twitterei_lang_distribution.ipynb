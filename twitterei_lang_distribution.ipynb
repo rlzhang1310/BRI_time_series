{
 "cells": [
  {
   "cell_type": "code",
   "execution_count": 1,
   "metadata": {},
   "outputs": [],
   "source": [
    "import boto3\n",
    "import zipfile\n",
    "import json\n",
    "import io\n",
    "import pandas as pd\n",
    "import matplotlib.pyplot as plt\n",
    "import spacy"
   ]
  },
  {
   "cell_type": "code",
   "execution_count": 2,
   "metadata": {},
   "outputs": [],
   "source": [
    "s3_host = 'https://obj.umiacs.umd.edu'\n",
    "access_key_id = \"xxxxx\"\n",
    "secret_access_key = \"xxxxx\"\n",
    "\n",
    "s3 = boto3.client('s3', \n",
    "                  endpoint_url=s3_host, \n",
    "                  aws_access_key_id=access_key_id, \n",
    "                  aws_secret_access_key=secret_access_key)\n",
    "\n",
    "bucket = 'twitter.ei'"
   ]
  },
  {
   "cell_type": "code",
   "execution_count": 3,
   "metadata": {},
   "outputs": [],
   "source": [
    "def process(file):\n",
    "    zip_object = s3.get_object(Bucket=bucket, Key=file)\n",
    "    zip_contents = zip_object['Body'].read()\n",
    "    zip_file = zipfile.ZipFile(io.BytesIO(zip_contents), 'r')\n",
    "    for file_info in zip_file.infolist():\n",
    "        with zip_file.open(file_info) as csv_file:\n",
    "            dates_df = None\n",
    "            try:\n",
    "                if dates_df == None:\n",
    "                    dates_df = pd.read_csv(csv_file)\n",
    "                else:\n",
    "                    dates_df = pd.concat([dates_df, pd.read_csv(csv_file)], axis=0)\n",
    "            except:\n",
    "                print(f\"{csv_file.filename} is not a csv file\")\n",
    "    return dates_df"
   ]
  },
  {
   "cell_type": "code",
   "execution_count": 19,
   "metadata": {},
   "outputs": [
    {
     "name": "stdout",
     "output_type": "stream",
     "text": [
      "2019_08/china_082019_1/china_082019_1_tweets_csv_unhashed.zip\n"
     ]
    },
    {
     "name": "stderr",
     "output_type": "stream",
     "text": [
      "/var/folders/r4/sgr1zrxx0038xwsxj6n3k8900000gn/T/ipykernel_25148/1007223139.py:10: DtypeWarning: Columns (6,30) have mixed types. Specify dtype option on import or set low_memory=False.\n",
      "  dates_df = pd.read_csv(csv_file)\n"
     ]
    },
    {
     "name": "stdout",
     "output_type": "stream",
     "text": [
      "2019_08/china_082019_2/china_082019_2_tweets_csv_unhashed.zip\n"
     ]
    },
    {
     "name": "stderr",
     "output_type": "stream",
     "text": [
      "/var/folders/r4/sgr1zrxx0038xwsxj6n3k8900000gn/T/ipykernel_25148/1007223139.py:10: DtypeWarning: Columns (30) have mixed types. Specify dtype option on import or set low_memory=False.\n",
      "  dates_df = pd.read_csv(csv_file)\n"
     ]
    },
    {
     "name": "stdout",
     "output_type": "stream",
     "text": [
      "2019_08/china_082019_3/china_082019_3_tweets_csv_unhashed.zip\n"
     ]
    },
    {
     "name": "stderr",
     "output_type": "stream",
     "text": [
      "/var/folders/r4/sgr1zrxx0038xwsxj6n3k8900000gn/T/ipykernel_25148/1007223139.py:10: DtypeWarning: Columns (30) have mixed types. Specify dtype option on import or set low_memory=False.\n",
      "  dates_df = pd.read_csv(csv_file)\n",
      "/var/folders/r4/sgr1zrxx0038xwsxj6n3k8900000gn/T/ipykernel_25148/1007223139.py:10: DtypeWarning: Columns (30) have mixed types. Specify dtype option on import or set low_memory=False.\n",
      "  dates_df = pd.read_csv(csv_file)\n"
     ]
    },
    {
     "name": "stdout",
     "output_type": "stream",
     "text": [
      "2020_05/china_052020/china_052020_tweets_csv_unhashed.zip\n",
      "2020_09/thailand_092020/thailand_092020_tweets_csv_unhashed.zip\n"
     ]
    }
   ],
   "source": [
    "folder_prefix_lst = [\"2019_08/china_082019_1/china_082019_1_tweets_csv_unhashed.zip\",\n",
    "                     \"2019_08/china_082019_2/china_082019_2_tweets_csv_unhashed.zip\",\n",
    "                     \"2019_08/china_082019_3/china_082019_3_tweets_csv_unhashed.zip\",\n",
    "                     \"2020_05/china_052020/china_052020_tweets_csv_unhashed.zip\", \n",
    "                     \"2020_09/thailand_092020/thailand_092020_tweets_csv_unhashed.zip\"]\n",
    "\n",
    "lang_lst = []\n",
    "\n",
    "for folder in folder_prefix_lst:\n",
    "    print(folder)\n",
    "    data = process(folder)\n",
    "    language_counts = data['tweet_language'].value_counts()\n",
    "    lang_lst.append(language_counts)\n"
   ]
  },
  {
   "cell_type": "code",
   "execution_count": 20,
   "metadata": {},
   "outputs": [
    {
     "name": "stdout",
     "output_type": "stream",
     "text": [
      "tweet_language\n",
      "in     791265\n",
      "en     375953\n",
      "pt     182682\n",
      "zh     114923\n",
      "und     73256\n",
      "es      32725\n",
      "tl      19422\n",
      "ko      13137\n",
      "et       8787\n",
      "ja       8256\n",
      "Name: count, dtype: int64\n",
      "total tweets: 1677486\n",
      "tweet_language\n",
      "ar     586684\n",
      "en     166935\n",
      "und     62446\n",
      "zh      54416\n",
      "es      47856\n",
      "pt      21045\n",
      "tl      20754\n",
      "fr       4216\n",
      "ja       3055\n",
      "id       2981\n",
      "Name: count, dtype: int64\n",
      "total tweets: 984203\n",
      "tweet_language\n",
      "in     1103433\n",
      "en      660476\n",
      "zh      569945\n",
      "und     261103\n",
      "ar       47905\n",
      "pt       41125\n",
      "ja       37021\n",
      "tl       33026\n",
      "ko       26109\n",
      "es       18175\n",
      "Name: count, dtype: int64\n",
      "total tweets: 2875334\n",
      "tweet_language\n",
      "zh     274534\n",
      "en      32926\n",
      "und     15853\n",
      "ja      13702\n",
      "ru       6255\n",
      "tr       1177\n",
      "ko        592\n",
      "ar        588\n",
      "es        561\n",
      "in        350\n",
      "Name: count, dtype: int64\n",
      "total tweets: 348608\n",
      "tweet_language\n",
      "th     19949\n",
      "und     1259\n",
      "en       162\n",
      "ko         2\n",
      "ja         2\n",
      "fr         2\n",
      "tr         1\n",
      "cs         1\n",
      "et         1\n",
      "da         1\n",
      "Name: count, dtype: int64\n",
      "total tweets: 21385\n"
     ]
    }
   ],
   "source": [
    "for lang in lang_lst:\n",
    "    # print(lang.head())\n",
    "    print(lang.head(10))\n",
    "    print(f\"total tweets: {lang.sum()}\")"
   ]
  },
  {
   "cell_type": "code",
   "execution_count": 21,
   "metadata": {},
   "outputs": [],
   "source": [
    "title = [\"china_082019_1\", \"china_082019_2\", \"china_082019_3\", \"china_052020\", \"thailand_092020\"]\n",
    "i = 0\n",
    "for lang in lang_lst:\n",
    "    lang.to_csv(f\"~/Coding/buntain/language_data/twitterrei_{title[i]}.csv\", index=[\"language\", \"count\"])\n",
    "    i+=1"
   ]
  }
 ],
 "metadata": {
  "kernelspec": {
   "display_name": "Python 3",
   "language": "python",
   "name": "python3"
  },
  "language_info": {
   "codemirror_mode": {
    "name": "ipython",
    "version": 3
   },
   "file_extension": ".py",
   "mimetype": "text/x-python",
   "name": "python",
   "nbconvert_exporter": "python",
   "pygments_lexer": "ipython3",
   "version": "3.12.3"
  },
  "orig_nbformat": 4
 },
 "nbformat": 4,
 "nbformat_minor": 2
}
